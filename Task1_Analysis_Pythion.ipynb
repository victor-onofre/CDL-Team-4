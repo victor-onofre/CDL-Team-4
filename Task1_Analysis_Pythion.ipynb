{
 "cells": [
  {
   "cell_type": "code",
   "execution_count": 2,
   "id": "ea85b813",
   "metadata": {},
   "outputs": [],
   "source": [
    "# !pip install pandas"
   ]
  },
  {
   "cell_type": "code",
   "execution_count": 9,
   "id": "b683654e",
   "metadata": {},
   "outputs": [
    {
     "ename": "ModuleNotFoundError",
     "evalue": "No module named 'pandas'",
     "output_type": "error",
     "traceback": [
      "\u001b[0;31m---------------------------------------------------------------------------\u001b[0m",
      "\u001b[0;31mModuleNotFoundError\u001b[0m                       Traceback (most recent call last)",
      "\u001b[0;32m<ipython-input-9-7dd3504c366f>\u001b[0m in \u001b[0;36m<module>\u001b[0;34m\u001b[0m\n\u001b[0;32m----> 1\u001b[0;31m \u001b[0;32mimport\u001b[0m \u001b[0mpandas\u001b[0m \u001b[0;32mas\u001b[0m \u001b[0mpd\u001b[0m\u001b[0;34m\u001b[0m\u001b[0;34m\u001b[0m\u001b[0m\n\u001b[0m",
      "\u001b[0;31mModuleNotFoundError\u001b[0m: No module named 'pandas'"
     ]
    }
   ],
   "source": [
    "import pandas as pd"
   ]
  },
  {
   "cell_type": "code",
   "execution_count": 2,
   "id": "3a0316c3",
   "metadata": {},
   "outputs": [],
   "source": [
    "def get_bin_x(row):\n",
    "    bin_x = ''\n",
    "    for xi in row:\n",
    "        bin_x = bin_x+str(xi)\n",
    "\n",
    "    return bin_x\n",
    "\n",
    "def extract_distributions(data_df):\n",
    "    data_df['bin_x'] = data_df.apply(get_bin_x, axis=1)\n",
    "    data_df['dec_x'] = data_df['bin_x'].apply(lambda x:int(x, 2))\n",
    "\n",
    "    dist_df = data_df['dec_x'].value_counts().sort_index().reset_index()\n",
    "    dist_df.columns = ['x', 'count']\n",
    "\n",
    "    dist_df['prob'] = dist_df['count'].apply(lambda x: round(x/1024.0, 4))\n",
    "\n",
    "    return dist_df"
   ]
  },
  {
   "cell_type": "code",
   "execution_count": 12,
   "id": "55f01cd0",
   "metadata": {},
   "outputs": [],
   "source": [
    "import glob\n",
    "\n",
    "for filepath in glob.iglob(r'data/task1/simulation_data/*.csv'):\n",
    "    # print(filepath)\n",
    "    task1_data_df = pd.read_csv(filepath)\n",
    "    task1_dist_df = extract_distributions(task1_data_df)\n",
    "    targetpath = filepath.replace('simulation_data', 'dist_data')\n",
    "    # print(targetpath)\n",
    "    task1_dist_df.to_csv(targetpath, index=False)\n",
    "    # print()\n",
    "    "
   ]
  },
  {
   "cell_type": "code",
   "execution_count": null,
   "id": "0e7ca262",
   "metadata": {},
   "outputs": [],
   "source": []
  }
 ],
 "metadata": {
  "interpreter": {
   "hash": "6dafd5edb7b9e9c684379eeb3278fb0f982b12da6ae1c996ebac1940fa012d73"
  },
  "kernelspec": {
   "display_name": "Python 3",
   "language": "python",
   "name": "python3"
  },
  "language_info": {
   "codemirror_mode": {
    "name": "ipython",
    "version": 3
   },
   "file_extension": ".py",
   "mimetype": "text/x-python",
   "name": "python",
   "nbconvert_exporter": "python",
   "pygments_lexer": "ipython3",
   "version": "3.7.10"
  }
 },
 "nbformat": 4,
 "nbformat_minor": 5
}
