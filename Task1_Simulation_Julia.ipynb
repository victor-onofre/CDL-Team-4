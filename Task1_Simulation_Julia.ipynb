{
 "cells": [
  {
   "cell_type": "code",
   "execution_count": 1,
   "id": "f41b19dd",
   "metadata": {},
   "outputs": [],
   "source": [
    "using PastaQ\n",
    "using CSV\n",
    "using DataFrames"
   ]
  },
  {
   "cell_type": "code",
   "execution_count": 2,
   "id": "7596c7e4",
   "metadata": {},
   "outputs": [],
   "source": [
    "function PastaQ.gate(::GateName\"R\"; theta::Real, phi::Real)\n",
    "    [\n",
    "        cos(theta/2)    (-im * exp(-im * phi) * sin(theta/2))\n",
    "        (-im * exp(im * phi) * sin(theta/2))     cos(theta/2)\n",
    "    ]\n",
    "end"
   ]
  },
  {
   "cell_type": "code",
   "execution_count": 3,
   "id": "0dbb416b",
   "metadata": {},
   "outputs": [],
   "source": [
    "function PastaQ.gate(::GateName\"M\"; Theta::Real)\n",
    "    [\n",
    "        cos(Theta)    0    0    (-im * sin(Theta))\n",
    "        0    cos(Theta)    (-im * sin(Theta))    0\n",
    "        0    (-im * sin(Theta))    cos(Theta)    0\n",
    "        (-im * sin(Theta))    0    0    cos(Theta)\n",
    "    ]\n",
    "end"
   ]
  },
  {
   "cell_type": "code",
   "execution_count": 4,
   "id": "43f0f4d6",
   "metadata": {},
   "outputs": [
    {
     "data": {
      "text/plain": [
       "run (generic function with 1 method)"
      ]
     },
     "execution_count": 4,
     "metadata": {},
     "output_type": "execute_result"
    }
   ],
   "source": [
    "function run(N, depth)\n",
    "    # Random circuit.\n",
    "    gates = Vector{Tuple}[]\n",
    "\n",
    "    for i in 1:depth\n",
    "        one_qubit_layer = Tuple[]\n",
    "        two_qubit_layer = Tuple[]\n",
    "\n",
    "        for j in 1:N\n",
    "            gate = (\"R\", j, (theta=2pi*rand(), phi=2pi*rand()))\n",
    "            push!(one_qubit_layer, gate)\n",
    "        end\n",
    "\n",
    "        # Alternate start qubit for pairs.\n",
    "        idx_first = i % 2 + 1\n",
    "\n",
    "        for j in idx_first:2:(N-1)\n",
    "            gate = (\"M\", (j, j+1), (Theta=2pi*rand(),))\n",
    "            push!(two_qubit_layer, gate)\n",
    "        end\n",
    "\n",
    "        push!(gates, one_qubit_layer)\n",
    "        push!(gates, two_qubit_layer)\n",
    "    end\n",
    "\n",
    "    ψ = runcircuit(N, gates)\n",
    "    # display(psi)\n",
    "\n",
    "    sample_data = getsamples(ψ, 1024)\n",
    "    \n",
    "    sample_df = DataFrame(sample_data, :auto)\n",
    "    file_name = \"./data/random_circuit_results__\"*\"$N\"*\"_\"*\"$depth\"*\"_1024.csv\"\n",
    "\n",
    "    CSV.write(file_name, sample_df)\n",
    "end"
   ]
  },
  {
   "cell_type": "code",
   "execution_count": 5,
   "id": "4e4fb883",
   "metadata": {},
   "outputs": [
    {
     "data": {
      "text/plain": [
       "15"
      ]
     },
     "execution_count": 5,
     "metadata": {},
     "output_type": "execute_result"
    }
   ],
   "source": [
    "N = parse(Int, \"5\")\n",
    "depth = parse(Int, \"15\")"
   ]
  },
  {
   "cell_type": "code",
   "execution_count": 6,
   "id": "b1e76ec1",
   "metadata": {},
   "outputs": [
    {
     "data": {
      "text/plain": [
       "6×18 Matrix{Tuple{Int64, Int64}}:\n",
       " (2, 1)   (2, 3)   (2, 5)   (2, 7)   …  (2, 500)   (2, 700)   (2, 1000)\n",
       " (5, 1)   (5, 3)   (5, 5)   (5, 7)      (5, 500)   (5, 700)   (5, 1000)\n",
       " (10, 1)  (10, 3)  (10, 5)  (10, 7)     (10, 500)  (10, 700)  (10, 1000)\n",
       " (15, 1)  (15, 3)  (15, 5)  (15, 7)     (15, 500)  (15, 700)  (15, 1000)\n",
       " (20, 1)  (20, 3)  (20, 5)  (20, 7)     (20, 500)  (20, 700)  (20, 1000)\n",
       " (30, 1)  (30, 3)  (30, 5)  (30, 7)  …  (30, 500)  (30, 700)  (30, 1000)"
      ]
     },
     "execution_count": 6,
     "metadata": {},
     "output_type": "execute_result"
    }
   ],
   "source": [
    "paramter_space = collect(Iterators.product((2, 5, 10, 15, 20, 30), \n",
    "        (1, 3, 5, 7, 10, 15, 25, 35, 50, 70, 100, 150, 200, 300, 400, 500, 700, 1000)))"
   ]
  },
  {
   "cell_type": "code",
   "execution_count": 7,
   "id": "047bc663",
   "metadata": {},
   "outputs": [
    {
     "ename": "LoadError",
     "evalue": "InterruptException:",
     "output_type": "error",
     "traceback": [
      "InterruptException:",
      "",
      "Stacktrace:",
      "  [1] contract(T1::NDTensors.DenseTensor{ComplexF64, 3, ITensors.IndexSet{3, ITensors.Index{Int64}, Tuple{ITensors.Index{Int64}, ITensors.Index{Int64}, ITensors.Index{Int64}}}, NDTensors.Dense{ComplexF64, Vector{ComplexF64}}}, labelsT1::Tuple{Int64, Int64, Int64}, T2::NDTensors.DenseTensor{ComplexF64, 2, ITensors.IndexSet{2, ITensors.Index{Int64}, Tuple{ITensors.Index{Int64}, ITensors.Index{Int64}}}, NDTensors.Dense{ComplexF64, Vector{ComplexF64}}}, labelsT2::Tuple{Int64, Int64}, labelsR::Tuple{Int64, Int64, Int64})",
      "    @ NDTensors ~/.julia/packages/NDTensors/b7X2X/src/dense.jl:550",
      "  [2] contract(T1::NDTensors.DenseTensor{ComplexF64, 3, ITensors.IndexSet{3, ITensors.Index{Int64}, Tuple{ITensors.Index{Int64}, ITensors.Index{Int64}, ITensors.Index{Int64}}}, NDTensors.Dense{ComplexF64, Vector{ComplexF64}}}, labelsT1::Tuple{Int64, Int64, Int64}, T2::NDTensors.DenseTensor{ComplexF64, 2, ITensors.IndexSet{2, ITensors.Index{Int64}, Tuple{ITensors.Index{Int64}, ITensors.Index{Int64}}}, NDTensors.Dense{ComplexF64, Vector{ComplexF64}}}, labelsT2::Tuple{Int64, Int64})",
      "    @ NDTensors ~/.julia/packages/NDTensors/b7X2X/src/dense.jl:545",
      "  [3] _contract(A::ITensors.ITensor{3}, B::ITensors.ITensor{2})",
      "    @ ITensors ~/.julia/packages/ITensors/Ligbx/src/itensor.jl:1304",
      "  [4] *(A::ITensors.ITensor{3}, B::ITensors.ITensor{2})",
      "    @ ITensors ~/.julia/packages/ITensors/Ligbx/src/itensor.jl:1363",
      "  [5] orthogonalize!(M::ITensors.MPS, j::Int64; kwargs::Base.Iterators.Pairs{Union{}, Union{}, Tuple{}, NamedTuple{(), Tuple{}}})",
      "    @ ITensors ~/.julia/packages/ITensors/Ligbx/src/mps/abstractmps.jl:1088",
      "  [6] orthogonalize!",
      "    @ ~/.julia/packages/ITensors/Ligbx/src/mps/abstractmps.jl:1076 [inlined]",
      "  [7] #orthogonalize#585",
      "    @ ~/.julia/packages/ITensors/Ligbx/src/mps/abstractmps.jl:1121 [inlined]",
      "  [8] orthogonalize",
      "    @ ~/.julia/packages/ITensors/Ligbx/src/mps/abstractmps.jl:1120 [inlined]",
      "  [9] product(o::ITensors.ITensor{2}, ψ::ITensors.MPS, ns::Vector{Int64}; move_sites_back::Bool, apply_dag::Bool, kwargs::Base.Iterators.Pairs{Symbol, Any, Tuple{Symbol, Symbol, Symbol}, NamedTuple{(:cutoff, :maxdim, :svd_alg), Tuple{Float64, Int64, String}}})",
      "    @ ITensors ~/.julia/packages/ITensors/Ligbx/src/mps/abstractmps.jl:1543",
      " [10] product(As::Vector{ITensors.ITensor}, ψ::ITensors.MPS; move_sites_back::Bool, kwargs::Base.Iterators.Pairs{Symbol, Any, Tuple{Symbol, Symbol, Symbol}, NamedTuple{(:cutoff, :maxdim, :svd_alg), Tuple{Float64, Int64, String}}})",
      "    @ ITensors ~/.julia/packages/ITensors/Ligbx/src/mps/abstractmps.jl:1650",
      " [11] runcircuit(M::ITensors.MPS, circuit_tensors::Vector{ITensors.ITensor}; apply_dag::Nothing, cutoff::Float64, maxdim::Int64, svd_alg::String, move_sites_back::Bool, kwargs::Base.Iterators.Pairs{Union{}, Union{}, Tuple{}, NamedTuple{(), Tuple{}}})",
      "    @ PastaQ ~/.julia/packages/PastaQ/9VxGO/src/circuits/runcircuit.jl:86",
      " [12] runcircuit",
      "    @ ~/.julia/packages/PastaQ/9VxGO/src/circuits/runcircuit.jl:62 [inlined]",
      " [13] #runcircuit#99",
      "    @ ~/.julia/packages/PastaQ/9VxGO/src/circuits/runcircuit.jl:188 [inlined]",
      " [14] runcircuit(M::ITensors.MPS, circuit::Vector{Vector{Tuple}}; observer!::Nothing, move_sites_back_before_measurements::Bool, noise::Nothing, kwargs::Base.Iterators.Pairs{Union{}, Union{}, Tuple{}, NamedTuple{(), Tuple{}}})",
      "    @ PastaQ ~/.julia/packages/PastaQ/9VxGO/src/circuits/runcircuit.jl:198",
      " [15] runcircuit(sites::Vector{ITensors.Index{Int64}}, circuit::Vector{Vector{Tuple}}; process::Bool, noise::Nothing, kwargs::Base.Iterators.Pairs{Union{}, Union{}, Tuple{}, NamedTuple{(), Tuple{}}})",
      "    @ PastaQ ~/.julia/packages/PastaQ/9VxGO/src/circuits/runcircuit.jl:263",
      " [16] runcircuit(sites::Vector{ITensors.Index{Int64}}, circuit::Vector{Vector{Tuple}})",
      "    @ PastaQ ~/.julia/packages/PastaQ/9VxGO/src/circuits/runcircuit.jl:254",
      " [17] runcircuit(N::Int64, args::Vector{Vector{Tuple}}; kwargs::Base.Iterators.Pairs{Union{}, Union{}, Tuple{}, NamedTuple{(), Tuple{}}})",
      "    @ PastaQ ~/.julia/packages/PastaQ/9VxGO/src/circuits/runcircuit.jl:266",
      " [18] runcircuit",
      "    @ ~/.julia/packages/PastaQ/9VxGO/src/circuits/runcircuit.jl:266 [inlined]",
      " [19] run(N::Int64, depth::Int64)",
      "    @ Main ./In[4]:26",
      " [20] top-level scope",
      "    @ ./In[7]:6",
      " [21] eval",
      "    @ ./boot.jl:360 [inlined]",
      " [22] include_string(mapexpr::typeof(REPL.softscope), mod::Module, code::String, filename::String)",
      "    @ Base ./loading.jl:1094"
     ]
    }
   ],
   "source": [
    "for col in eachrow(paramter_space)\n",
    "#     println(col)\n",
    "#     println()\n",
    "    for params in col\n",
    "#         print(params[1],\" \", params[2])\n",
    "        run(params[1], params[2])\n",
    "    end\n",
    "end"
   ]
  },
  {
   "cell_type": "code",
   "execution_count": 8,
   "id": "e3ed7276",
   "metadata": {},
   "outputs": [],
   "source": [
    "# import Pkg; Pkg.add(\"DataFrames\")"
   ]
  },
  {
   "cell_type": "code",
   "execution_count": 10,
   "id": "2fda241f",
   "metadata": {},
   "outputs": [
    {
     "data": {
      "text/plain": [
       "#76 (generic function with 1 method)"
      ]
     },
     "execution_count": 10,
     "metadata": {},
     "output_type": "execute_result"
    }
   ],
   "source": []
  },
  {
   "cell_type": "code",
   "execution_count": 11,
   "id": "83cb6654",
   "metadata": {},
   "outputs": [
    {
     "data": {
      "text/plain": [
       "\"./data/random_circuit_results__5_15_100.csv\""
      ]
     },
     "execution_count": 11,
     "metadata": {},
     "output_type": "execute_result"
    }
   ],
   "source": []
  },
  {
   "cell_type": "code",
   "execution_count": null,
   "id": "44ac7e04",
   "metadata": {},
   "outputs": [],
   "source": []
  }
 ],
 "metadata": {
  "kernelspec": {
   "display_name": "Julia 1.6.1",
   "language": "julia",
   "name": "julia-1.6"
  },
  "language_info": {
   "file_extension": ".jl",
   "mimetype": "application/julia",
   "name": "julia",
   "version": "1.6.1"
  }
 },
 "nbformat": 4,
 "nbformat_minor": 5
}
